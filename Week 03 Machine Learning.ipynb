{
 "cells": [
  {
   "cell_type": "markdown",
   "metadata": {},
   "source": [
    "# 03 Machine Learning Workflow dengan Scikit Learn"
   ]
  },
  {
   "cell_type": "markdown",
   "metadata": {},
   "source": [
    "## Persiapan Dataset"
   ]
  },
  {
   "cell_type": "markdown",
   "metadata": {},
   "source": [
    "### Load Sample Dataset: Iris Dataset"
   ]
  },
  {
   "cell_type": "code",
   "execution_count": 1,
   "metadata": {},
   "outputs": [],
   "source": [
    "from sklearn.datasets import load_iris\n",
    "\n",
    "iris = load_iris()\n",
    "\n",
    "X = iris.data\n",
    "y = iris.target"
   ]
  },
  {
   "cell_type": "markdown",
   "metadata": {},
   "source": [
    "- Dataset ditampung dalam variable iris.\n",
    "- Nilai features ditampung dalam variable x.\n",
    "- Nilai target ditampung dalam variable y.\n"
   ]
  },
  {
   "cell_type": "markdown",
   "metadata": {},
   "source": [
    "### Splitting Dataset: Training & Testing Set"
   ]
  },
  {
   "cell_type": "code",
   "execution_count": 2,
   "metadata": {},
   "outputs": [],
   "source": [
    "\n",
    "from sklearn.model_selection import train_test_split\n",
    "\n",
    "X_train, X_test, y_train, y_test = train_test_split(X,\n",
    "                                                    y,\n",
    "                                                    test_size=0.4,\n",
    "                                                    random_state=1)"
   ]
  },
  {
   "cell_type": "markdown",
   "metadata": {},
   "source": [
    "test_size sebagai ukuran testing set (kasus saat ini 0.4, berarti testing set memiliki proposi 40% dari total keseluruhan dataset sedangkan training set memiliki proposi 60%)\n",
    "random_state yang digunakan yaitu 1"
   ]
  },
  {
   "cell_type": "markdown",
   "metadata": {},
   "source": [
    "## Training Model"
   ]
  },
  {
   "cell_type": "markdown",
   "metadata": {},
   "source": [
    "- Pada Scikit Learn, model machine learning dibentuk dari class yang dikenal dengan istilah estimator.\n",
    "- Setiap estimator akan mengimplementasikan dua method utama, yaitu fit() dan predict().\n",
    "- Method fit() digunakan untuk melakukan training model.\n",
    "- Method predict() digunakan untuk melakukan estimasi/prediksi dengan memanfaatkan trained model."
   ]
  },
  {
   "cell_type": "code",
   "execution_count": 3,
   "metadata": {},
   "outputs": [
    {
     "data": {
      "text/plain": [
       "KNeighborsClassifier(n_neighbors=3)"
      ]
     },
     "execution_count": 3,
     "metadata": {},
     "output_type": "execute_result"
    }
   ],
   "source": [
    "from sklearn.neighbors import KNeighborsClassifier\n",
    "\n",
    "model = KNeighborsClassifier(n_neighbors=3)\n",
    "model.fit(X_train, y_train)"
   ]
  },
  {
   "cell_type": "markdown",
   "metadata": {},
   "source": [
    "Dalam kasus kali ini, dibentuk objek KneighborsClassifier. Proses pembentukan objek ini membutuhkan sebuah parameter yaitu n_neighbors. Parameter ini dibutuhkan karena objek yang ingin kita bentuk berasal dari K-Nearest Neighbors Classifier dan perlu mengspesifikasikan jumlah tetangganya. \n",
    "\n",
    "Model tersebut akan ditraining dengan menggunakan method fit(). Proses training akan menggunakan training set (x_train, y_train).\n"
   ]
  },
  {
   "cell_type": "markdown",
   "metadata": {},
   "source": [
    "## Evaluasi Model"
   ]
  },
  {
   "cell_type": "code",
   "execution_count": 4,
   "metadata": {},
   "outputs": [
    {
     "name": "stdout",
     "output_type": "stream",
     "text": [
      "Accuracy: 0.9833333333333333\n"
     ]
    }
   ],
   "source": [
    "from sklearn.metrics import accuracy_score\n",
    "\n",
    "y_pred = model.predict(X_test)\n",
    "acc = accuracy_score(y_test, y_pred)\n",
    "print(f'Accuracy: {acc}')"
   ]
  },
  {
   "cell_type": "markdown",
   "metadata": {},
   "source": [
    "Accuracy_score merupakan salah satu metrics untuk melakukan proses evaluasi dari suatu model.\n",
    "Melakukan prediksi terhadap nilai features(x_test) yang ada dalam testing dataset. Dan hasil prediksi ditampung dalam variable y_pred. \n",
    "Proses evaluasi akan membandingan nilai target (y_test) dengan nilai prediksi (y_pred) menggunakan accuracy_score. Nilai accuracy ditampung dalam variable acc."
   ]
  },
  {
   "cell_type": "markdown",
   "metadata": {},
   "source": [
    "## Pemanfaatan Trained Model"
   ]
  },
  {
   "cell_type": "code",
   "execution_count": 5,
   "metadata": {},
   "outputs": [
    {
     "data": {
      "text/plain": [
       "array([1, 2])"
      ]
     },
     "execution_count": 5,
     "metadata": {},
     "output_type": "execute_result"
    }
   ],
   "source": [
    "data_baru = [[5, 5, 3, 2], \n",
    "             [2, 4, 3, 5]]\n",
    "\n",
    "preds =  model.predict(data_baru)\n",
    "preds"
   ]
  },
  {
   "cell_type": "markdown",
   "metadata": {},
   "source": [
    "Pada data baru, hanya memiliki sekumpulan nilai features namun tidak untuk nilai target. Maka dimanfaatkanlah trained model sebelumnya untuk melakukan prediksi dari sekumpulan nilai features yang ada. \n",
    "\n",
    "Dataset terdiri dari 2 row/baris, dimana setiap baris terbagi dalam 4 nilai features.\n",
    "\n",
    "Akan menghasilkan array([1, 2]) dimana baris pertama memiliki prediksi nilai target 1 dan baris kedua memiliki prediksi nilai target 2."
   ]
  },
  {
   "cell_type": "markdown",
   "metadata": {},
   "source": [
    "## Dump & Load Trained Model"
   ]
  },
  {
   "cell_type": "markdown",
   "metadata": {},
   "source": [
    "### Dumping Model Machine Learning menjadi file joblib"
   ]
  },
  {
   "cell_type": "code",
   "execution_count": 6,
   "metadata": {},
   "outputs": [
    {
     "data": {
      "text/plain": [
       "['iris_classifier_knn.joblib']"
      ]
     },
     "execution_count": 6,
     "metadata": {},
     "output_type": "execute_result"
    }
   ],
   "source": [
    "import joblib\n",
    "\n",
    "joblib.dump(model, 'iris_classifier_knn.joblib')"
   ]
  },
  {
   "cell_type": "markdown",
   "metadata": {},
   "source": [
    "- Dumping\n",
    "\n",
    "Menggunakan joblib.\n",
    "Joblib.dump membutuhkan 2 parameter yaitu trained model yang perlu kita dumb dan nama file joblib.\n",
    "Hasil = file iris_classifier_knn.joblib \n"
   ]
  },
  {
   "cell_type": "markdown",
   "metadata": {},
   "source": [
    "### Loading Model Machine Learning dari file joblib"
   ]
  },
  {
   "cell_type": "code",
   "execution_count": 8,
   "metadata": {},
   "outputs": [],
   "source": [
    "production_model = joblib.load('iris_classifier_knn.joblib')"
   ]
  },
  {
   "cell_type": "markdown",
   "metadata": {},
   "source": [
    "- Loading\n",
    "\n",
    "Ketika sudah joblib, load maka dihasilkan maching learning model. Maching learning model ditampung dalam nilai production_model. Lalu production_model dapat digunakan untuk memprediksi data baru yang ditemui di production."
   ]
  },
  {
   "cell_type": "code",
   "execution_count": null,
   "metadata": {},
   "outputs": [],
   "source": []
  }
 ],
 "metadata": {
  "kernelspec": {
   "display_name": "Python 3",
   "language": "python",
   "name": "python3"
  },
  "language_info": {
   "codemirror_mode": {
    "name": "ipython",
    "version": 3
   },
   "file_extension": ".py",
   "mimetype": "text/x-python",
   "name": "python",
   "nbconvert_exporter": "python",
   "pygments_lexer": "ipython3",
   "version": "3.8.5"
  }
 },
 "nbformat": 4,
 "nbformat_minor": 4
}
